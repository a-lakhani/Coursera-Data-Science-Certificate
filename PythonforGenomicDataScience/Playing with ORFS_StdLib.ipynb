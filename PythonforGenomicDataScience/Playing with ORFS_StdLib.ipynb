{
 "cells": [
  {
   "cell_type": "code",
   "execution_count": 3,
   "id": "92b4d7ca",
   "metadata": {},
   "outputs": [],
   "source": [
    "import os\n",
    "import sys\n",
    "from pprint import pprint\n",
    "import pprint as pp               # brought in for pformat, can remove or reformat later\n",
    "\n",
    "path_to_fasta_file = '/home/alakhani/Coursera-Projects/PythonforGenomicDataScience/FASTA_Files/dna.example_copy.fasta'"
   ]
  },
  {
   "cell_type": "code",
   "execution_count": 4,
   "id": "6b32194b",
   "metadata": {},
   "outputs": [],
   "source": [
    "# with automatically closes file before leaving statement. \n",
    "# A bonus is being able to retry things without having to file.seek(0) every time\n",
    "\n",
    "with open(path_to_fasta_file,'r') as fasta_file:\n",
    "    fileaslist =  list(fasta_file)\n",
    "# pprint(fileaslist)"
   ]
  },
  {
   "cell_type": "code",
   "execution_count": 5,
   "id": "5c267a90",
   "metadata": {},
   "outputs": [
    {
     "name": "stdout",
     "output_type": "stream",
     "text": [
      "<class '_io.TextIOWrapper'>\n",
      "208\n"
     ]
    }
   ],
   "source": [
    "# The file object still exists after the file has been closed.\n",
    "print(type(fasta_file))\n",
    "print(sys.getsizeof(fasta_file))\n",
    "\n",
    "# Unless it is deleted explicitly\n",
    "del fasta_file\n",
    "# print(type(fasta_file))"
   ]
  },
  {
   "cell_type": "code",
   "execution_count": 6,
   "id": "d044fd0f",
   "metadata": {},
   "outputs": [],
   "source": [
    "# FASTA record descriptions begin with '>', \n",
    "# Simplest way of counting:\n",
    "\n",
    "with open(path_to_fasta_file,'r') as fasta_file:\n",
    "    count = fasta_file.read().count('>')\n",
    "\n",
    "# print(count)\n"
   ]
  },
  {
   "cell_type": "code",
   "execution_count": 7,
   "id": "13ee3333",
   "metadata": {},
   "outputs": [],
   "source": [
    "# Dictionary comprehension directly from file looks cool, \n",
    "# but it does not seem amenable for collecting sequence values in the same iteration.\n",
    "\n",
    "with open(path_to_fasta_file,'r') as fasta_file:\n",
    "    seq_dict_2 = {line.strip() : None for line in fasta_file if line[0] == \">\"}\n",
    "    \n",
    "# print('Length of dictionary made \"the python way\"', len(seq_dict_2),'\\n')\n",
    "# pprint(seq_dict_2.items())\n"
   ]
  },
  {
   "cell_type": "code",
   "execution_count": 8,
   "id": "2405e184",
   "metadata": {
    "collapsed": true
   },
   "outputs": [
    {
     "name": "stdout",
     "output_type": "stream",
     "text": [
      "Length of sequence dictionary\" 25\n"
     ]
    }
   ],
   "source": [
    "# Collect sequence keys and values in separate lists then join into a dictionary.\n",
    "\n",
    "with open(path_to_fasta_file,'r') as fasta_file:\n",
    "    header = \"\"\n",
    "    seq_accumulator = []\n",
    "    sequences = {}\n",
    "    for line in fasta_file:\n",
    "        if line[0] == \">\" and not (header or seq_accumulator):     # For first line/header.\n",
    "            header = line.strip('>\\n')\n",
    "        elif line[0] == \">\" and seq_accumulator and header:\n",
    "            sequences[header] = ''.join(seq_accumulator)\n",
    "            seq_accumulator.clear()\n",
    "            header = line.strip('>\\n')\n",
    "        elif header:                                               # Will have unintended effects if first line is not a header.\n",
    "            seq_accumulator.append(line.strip())\n",
    "        else:\n",
    "            print(\"Check file format. Missing header on first line\")\n",
    "            \n",
    "    sequences[header] = ''.join(seq_accumulator)                   # Loop ends when we reach eof but last sequence was not paired with header yet.\n",
    "    \n",
    "print('Length of sequence dictionary\"', len(sequences))\n",
    "# print(sequences)\n",
    "# print(list(sequences.items())[:1])\n",
    "# print(list(sequences.items())[-2:])"
   ]
  },
  {
   "cell_type": "code",
   "execution_count": 11,
   "id": "2f11c73a",
   "metadata": {
    "collapsed": true
   },
   "outputs": [],
   "source": [
    "# That was clunky. Is there a cleaner way with itertools?\n",
    "# 1 - enumerate can yield an index so we know where to start looking for next sequence\n",
    "# 2 - takewhile can collect lines until the next header is seen. use index returned from enumerate to take a slice.\n",
    "# \n",
    "# Disadvantages are making a (shallow) copy of the list every time we see a header, \n",
    "# and still iterating over lines that have already been stored as sequences.\n",
    "# Also function calls from lambda in loop have (in this case fixed?) overhead.  \n",
    "# With respect to speed of creating new copies, this will be a bottleneck with very large files. \n",
    "\n",
    "import itertools\n",
    "sequences = {}\n",
    "with open(path_to_fasta_file,'r') as fasta_file:\n",
    "    readlist = fasta_file.read().splitlines()\n",
    "#    readlist = [line for line in fasta_file]\n",
    "    for index, line in enumerate(readlist):\n",
    "        if line[0] == \">\":\n",
    "            # [key] = value used for adding items to dict\n",
    "            # Make a slice of readlist starting from the next line.\n",
    "            # Then use takewhile to collect lines in a list (technically \"create an iterator\") until we see another header line.\n",
    "            # Once we encounter another header line, join elements returned by takewhile and assign the resulting string\n",
    "            # as a dict value corresponding to the current line as a dict key.\n",
    "            sequences[line] = ''.join(itertools.takewhile(lambda x: x[0] != \">\", readlist[index + 1:]))\n",
    "\n",
    "# pprint(readlist)\n",
    "# pprint(sequences)\n",
    "\n"
   ]
  },
  {
   "cell_type": "code",
   "execution_count": null,
   "metadata": {},
   "outputs": [],
   "source": []
  }
 ],
 "metadata": {
  "interpreter": {
   "hash": "1496728fd4910581be769dbea2647f5ee73a9be9d1697e51a4ff491ad13ee4c0"
  },
  "kernelspec": {
   "display_name": "Python 3.9.7 64-bit ('working': conda)",
   "name": "python3"
  },
  "language_info": {
   "codemirror_mode": {
    "name": "ipython",
    "version": 3
   },
   "file_extension": ".py",
   "mimetype": "text/x-python",
   "name": "python",
   "nbconvert_exporter": "python",
   "pygments_lexer": "ipython3",
   "version": "3.9.7"
  }
 },
 "nbformat": 4,
 "nbformat_minor": 5
}
